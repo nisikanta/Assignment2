{
 "cells": [
  {
   "cell_type": "code",
   "execution_count": 22,
   "metadata": {},
   "outputs": [
    {
     "name": "stdout",
     "output_type": "stream",
     "text": [
      "Enter a side1 : 23\n",
      "Enter a side2 : 45\n",
      "Enter a side3 : 65\n",
      "Area of a traingle :  305.43606123049716\n"
     ]
    }
   ],
   "source": [
    "class traingle():\n",
    "    def get_values(self,a,b,c):\n",
    "        self.a=a\n",
    "        self.b=b\n",
    "        self.c=c\n",
    "class area(traingle):\n",
    "    def area_cal(self):\n",
    "        s=(self.a+self.b+self.c)/2\n",
    "        Area_value=(s*(s-self.a)*(s-self.b)*(s-self.c)) ** 0.5\n",
    "        return Area_value \n",
    "\n",
    "side1=int(input(\"Enter a side1 : \"))\n",
    "side2=int(input(\"Enter a side2 : \"))\n",
    "side3=int(input(\"Enter a side3 : \"))\n",
    "\n",
    "if (side1 !='' and side2 !='' and side3 !='' ):\n",
    "    a1=area()\n",
    "    a1.get_values(side1,side2,side3)\n",
    "    p=a1.area_cal()\n",
    "    print(\"Area of a traingle : \",p)\n",
    "else:\n",
    "    print(\"Sides can not be blank\")\n",
    "    "
   ]
  },
  {
   "cell_type": "code",
   "execution_count": null,
   "metadata": {},
   "outputs": [],
   "source": []
  },
  {
   "cell_type": "code",
   "execution_count": null,
   "metadata": {},
   "outputs": [],
   "source": []
  }
 ],
 "metadata": {
  "kernelspec": {
   "display_name": "Python 3",
   "language": "python",
   "name": "python3"
  },
  "language_info": {
   "codemirror_mode": {
    "name": "ipython",
    "version": 3
   },
   "file_extension": ".py",
   "mimetype": "text/x-python",
   "name": "python",
   "nbconvert_exporter": "python",
   "pygments_lexer": "ipython3",
   "version": "3.7.4"
  }
 },
 "nbformat": 4,
 "nbformat_minor": 2
}
