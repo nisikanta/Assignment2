{
 "cells": [
  {
   "cell_type": "code",
   "execution_count": 177,
   "metadata": {},
   "outputs": [
    {
     "data": {
      "text/plain": [
       "96"
      ]
     },
     "execution_count": 177,
     "metadata": {},
     "output_type": "execute_result"
    }
   ],
   "source": [
    "'''Write a Python Program to implement your own myreduce() function which works exactly like\n",
    "Python's built-in function reduce()'''\n",
    "def mysum(x,y):\n",
    "    return x+y\n",
    "def my_reduce(func,lst):\n",
    "    first=lst[0]\n",
    "    for i in lst[1:]:\n",
    "       first=mysum(first,i)\n",
    "    return first\n",
    "    \n",
    "lst=[2,4,6,78,6]\n",
    "k=my_reduce(mysum,lst)\n",
    "k"
   ]
  },
  {
   "cell_type": "code",
   "execution_count": 178,
   "metadata": {},
   "outputs": [
    {
     "data": {
      "text/plain": [
       "780"
      ]
     },
     "execution_count": 178,
     "metadata": {},
     "output_type": "execute_result"
    }
   ],
   "source": [
    "# using my reduce function to get the max number\n",
    "def mymax(x,y):\n",
    "    if(x>y):\n",
    "        return x\n",
    "    else:\n",
    "        return y\n",
    "\n",
    "def my_reduce_max_fun(func,lst):\n",
    "    first1=lst[0]\n",
    "    \n",
    "    for i in lst[1:]:\n",
    "        first1=mymax(first1,i)\n",
    "    return first1\n",
    "lst=[28,410,6,780,6]\n",
    "k=my_reduce_max_fun(mymax,lst)\n",
    "k   \n",
    "    "
   ]
  },
  {
   "cell_type": "code",
   "execution_count": null,
   "metadata": {},
   "outputs": [],
   "source": []
  },
  {
   "cell_type": "code",
   "execution_count": null,
   "metadata": {},
   "outputs": [],
   "source": [
    " "
   ]
  },
  {
   "cell_type": "code",
   "execution_count": null,
   "metadata": {},
   "outputs": [],
   "source": []
  }
 ],
 "metadata": {
  "kernelspec": {
   "display_name": "Python 3",
   "language": "python",
   "name": "python3"
  },
  "language_info": {
   "codemirror_mode": {
    "name": "ipython",
    "version": 3
   },
   "file_extension": ".py",
   "mimetype": "text/x-python",
   "name": "python",
   "nbconvert_exporter": "python",
   "pygments_lexer": "ipython3",
   "version": "3.7.4"
  }
 },
 "nbformat": 4,
 "nbformat_minor": 2
}
