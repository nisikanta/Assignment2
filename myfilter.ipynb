{
 "cells": [
  {
   "cell_type": "markdown",
   "metadata": {},
   "source": [
    "Write a Python program to implement your own myfilter() function which works exactly like\n",
    "Python's built-in function filter()"
   ]
  },
  {
   "cell_type": "code",
   "execution_count": 3,
   "metadata": {},
   "outputs": [
    {
     "name": "stdout",
     "output_type": "stream",
     "text": [
      "Filter only vowels  on list [g,k,p,e,a,i] using custom filter function['e', 'a', 'i']\n"
     ]
    }
   ],
   "source": [
    "def isvowel(x):\n",
    "    filter_word=['a','e','i','o','u']\n",
    "    if (x in filter_word ):\n",
    "        return True\n",
    "    else:\n",
    "        return False\n",
    "def myfilter1(anyfunc, sequence):\n",
    "    # Initialize empty list\n",
    "    result = []\n",
    "    # iterate over sequence of items in sequence and apply filter function\n",
    "    for item in sequence:\n",
    "        if anyfunc(item):\n",
    "           result.append(item)\n",
    "\n",
    "    # return funal output\n",
    "    return result\n",
    "    \n",
    "print (\"Filter only vowels  on list [g,k,p,e,a,i] using custom filter function\"  + str(myfilter1(isvowel, ['g','k','p','e','a','i'])))\n",
    "\n",
    "    "
   ]
  },
  {
   "cell_type": "code",
   "execution_count": null,
   "metadata": {},
   "outputs": [],
   "source": []
  }
 ],
 "metadata": {
  "kernelspec": {
   "display_name": "Python 3",
   "language": "python",
   "name": "python3"
  },
  "language_info": {
   "codemirror_mode": {
    "name": "ipython",
    "version": 3
   },
   "file_extension": ".py",
   "mimetype": "text/x-python",
   "name": "python",
   "nbconvert_exporter": "python",
   "pygments_lexer": "ipython3",
   "version": "3.7.4"
  }
 },
 "nbformat": 4,
 "nbformat_minor": 2
}
